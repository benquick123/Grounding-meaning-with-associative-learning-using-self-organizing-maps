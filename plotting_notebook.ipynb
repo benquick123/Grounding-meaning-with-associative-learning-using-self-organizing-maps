{
 "cells": [
  {
   "cell_type": "code",
   "execution_count": 1,
   "metadata": {},
   "outputs": [
    {
     "name": "stdout",
     "output_type": "stream",
     "text": [
      "C:/Users/Jonathan/Documents/School/Project_Takac/Plotting/Jan-23_17.59.34_700_boot/\n"
     ]
    }
   ],
   "source": [
    "from plotting import *\n",
    "import pandas as pd\n",
    "import os\n",
    "%matplotlib inline\n",
    "plt.rcParams[\"font.family\"] = \"Latin Modern Roman\"\n",
    "plt.rcParams[\"figure.figsize\"] = (9, 5)\n",
    "\n",
    "train_type = [\"position\", \"size\", \"color\", \"shape\"]\n",
    "_train_type = [\"position\", \"size\", \"color\", \"type\"]\n",
    "log_path = \"C:/Users/Jonathan/Documents/School/Project_Takac/log-files/Jan-23_17.59.34_700_boot/log.csv\"\n",
    "save_path = \"C:/Users/Jonathan/Documents/School/Project_Takac/Plotting/\" + log_path.split(\"/\")[-2] + \"/\"\n",
    "print(save_path)\n",
    "dataframe = pd.read_csv(log_path)\n",
    "mode = \"show\""
   ]
  },
  {
   "cell_type": "code",
   "execution_count": 2,
   "metadata": {},
   "outputs": [],
   "source": [
    "# plot different errors\n",
    "errors = [\"SOM error\"]\n",
    "underscores = [False, True]\n",
    "ylims = (None, None)\n",
    "for i, (e, u) in enumerate(zip(errors, underscores)):\n",
    "    labels = [tr + \" \" + e for tr in train_type]\n",
    "    labels1 = labels\n",
    "    if u:\n",
    "        labels = [\"_\" + l for l in labels]\n",
    "    to_plot = [dataframe[l] for l in labels]\n",
    "    labels = [tr + \" \" + e for tr in _train_type]\n",
    "    plot_per_epoch(to_plot, labels, ylim=ylims[i], mode=mode, path=save_path + errors[i])"
   ]
  },
  {
   "cell_type": "code",
   "execution_count": 3,
   "metadata": {},
   "outputs": [],
   "source": [
    "# plot wm and mw entropies\n",
    "l_mw = []\n",
    "l_wm_1 = []\n",
    "ylims = ((0.7, 1.001), (0.8, 1.001), (0.6, 1.001), (0.6, 1.001))\n",
    "for i, tr in enumerate(train_type):\n",
    "    l_wm = []\n",
    "    for tr1 in train_type:\n",
    "        l_wm.append((\"_\" if tr != tr1 else \"\") + tr + \" wm entropies - \" + tr1)\n",
    "        # l_mw.append((\"_\" if tr != tr1 else \"\") + tr + \" mw entropies - \" + tr1)\n",
    "    l_mw.append(tr + \" mw entropies\")\n",
    "    l_wm_1.append(tr + \" wm entropies - \" + tr)\n",
    "    \n",
    "    # to_plot_wm = [dataframe[l] for l in l_wm]\n",
    "    # l_wm = [l[1:] if l[0] == \"_\" else l for l in l_wm]\n",
    "    # plot_per_epoch(to_plot_wm, l_wm, ylim=ylims[i])\n",
    "    \n",
    "    # to_plot_mw = [dataframe[l] for l in l_mw]\n",
    "    # l_mw = [l[1:] if l[0] == \"_\" else l for l in l_mw]\n",
    "    # plot_per_epoch(to_plot_mw, l_mw)\n",
    "\n",
    "to_plot_mw = [dataframe[l] for l in l_mw]\n",
    "l_mw = [l + \" V --> L entropies\" for l in _train_type]\n",
    "plot_per_epoch(to_plot_mw, l_mw, ylim=(0.7, 1.001), mode=mode, path=save_path + \"mw_entropies\")\n",
    "\n",
    "to_plot_wm = [dataframe[l] for l in l_wm_1]\n",
    "l_wm_1 = [l + \" L --> V entropies\" for l in _train_type]\n",
    "plot_per_epoch(to_plot_wm, l_wm_1, ylim=(0.7, 1.001), mode=mode, path=save_path + \"wm_entropies\")"
   ]
  },
  {
   "cell_type": "code",
   "execution_count": 4,
   "metadata": {},
   "outputs": [],
   "source": [
    "# probability tables entropies\n",
    "ylim = (.0, 1.01)\n",
    "l1 = [tr + \" word_x_category entropy\" for tr in train_type]\n",
    "l2 = [\"length: \" + str(i+1) + \" length_x_position entropy\" for i in range(4)]\n",
    "to_plot = [dataframe[l] for l in l1]\n",
    "l1 = [tr + \" word_x_category entropy\" for tr in _train_type]\n",
    "plot_per_epoch(to_plot, l1, ylim=ylim, mode=mode, path=save_path + \"wxc\")\n",
    "to_plot = [dataframe[l] for l in l2]\n",
    "plot_per_epoch(to_plot, l2, ylim=ylim, mode=mode, path=save_path + \"lxp\")"
   ]
  },
  {
   "cell_type": "code",
   "execution_count": null,
   "metadata": {},
   "outputs": [],
   "source": []
  }
 ],
 "metadata": {
  "kernelspec": {
   "display_name": "Python 3",
   "language": "python",
   "name": "python3"
  },
  "language_info": {
   "codemirror_mode": {
    "name": "ipython",
    "version": 3
   },
   "file_extension": ".py",
   "mimetype": "text/x-python",
   "name": "python",
   "nbconvert_exporter": "python",
   "pygments_lexer": "ipython3",
   "version": "3.6.6"
  }
 },
 "nbformat": 4,
 "nbformat_minor": 1
}
